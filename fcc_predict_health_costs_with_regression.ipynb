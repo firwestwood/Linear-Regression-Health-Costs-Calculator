{
  "cells": [
    {
      "cell_type": "code",
      "execution_count": null,
      "metadata": {
        "id": "1rRo8oNqZ-Rj"
      },
      "outputs": [],
      "source": [
        "# Import libraries. You may or may not use all of these.\n",
        "!pip install -q git+https://github.com/tensorflow/docs\n",
        "import matplotlib.pyplot as plt\n",
        "import numpy as np\n",
        "import pandas as pd\n",
        "\n",
        "try:\n",
        "  # %tensorflow_version only exists in Colab.\n",
        "  %tensorflow_version 2.x\n",
        "except Exception:\n",
        "  pass\n",
        "import tensorflow as tf\n",
        "\n",
        "from tensorflow import keras\n",
        "from tensorflow.keras import layers\n",
        "\n",
        "import tensorflow_docs as tfdocs\n",
        "import tensorflow_docs.plots\n",
        "import tensorflow_docs.modeling"
      ]
    },
    {
      "cell_type": "code",
      "execution_count": null,
      "metadata": {
        "id": "CiX2FI4gZtTt"
      },
      "outputs": [],
      "source": [
        "# Import data\n",
        "!wget https://cdn.freecodecamp.org/project-data/health-costs/insurance.csv\n",
        "dataset = pd.read_csv('insurance.csv')\n",
        "dataset.tail()"
      ]
    },
    {
      "cell_type": "code",
      "source": [
        "tf.keras.layers.Dense(64, activation='relu', kernel_regularizer=tf.keras.regularizers.l2(0.01))"
      ],
      "metadata": {
        "id": "kbw9H2Ob5YG4"
      },
      "execution_count": null,
      "outputs": []
    },
    {
      "cell_type": "code",
      "execution_count": null,
      "metadata": {
        "id": "LcopvQh3X-kX"
      },
      "outputs": [],
      "source": [
        "# Import required libraries\n",
        "import pandas as pd\n",
        "import numpy as np\n",
        "import tensorflow as tf\n",
        "from sklearn.model_selection import train_test_split\n",
        "from sklearn.preprocessing import StandardScaler\n",
        "import matplotlib.pyplot as plt\n",
        "\n",
        "# Load the dataset (replace with your dataset path)\n",
        "data = pd.read_csv('insurance.csv')  # Update with your dataset path\n",
        "\n",
        "# Preprocess data\n",
        "# Convert categorical data to numerical (e.g., one-hot encoding)\n",
        "data = pd.get_dummies(data, drop_first=True)\n",
        "\n",
        "# Separate features and labels\n",
        "labels = data.pop('expenses')  # Target variable\n",
        "features = data\n",
        "\n",
        "# Split data into training and testing datasets\n",
        "train_dataset, test_dataset, train_labels, test_labels = train_test_split(\n",
        "    features, labels, test_size=0.2, random_state=42)\n",
        "\n",
        "# Normalize features using StandardScaler\n",
        "scaler = StandardScaler()\n",
        "train_dataset = scaler.fit_transform(train_dataset)\n",
        "test_dataset = scaler.transform(test_dataset)\n",
        "\n",
        "# Build a neural network model\n",
        "model = tf.keras.Sequential([\n",
        "    tf.keras.layers.Dense(128, activation='relu', input_shape=(train_dataset.shape[1],)),\n",
        "    tf.keras.layers.Dropout(0.2),  # Dropout for regularization\n",
        "    tf.keras.layers.Dense(64, activation='relu'),\n",
        "    tf.keras.layers.Dropout(0.2),\n",
        "    tf.keras.layers.Dense(32, activation='relu'),\n",
        "    tf.keras.layers.Dense(1)  # Output layer\n",
        "])\n",
        "\n",
        "# Compile the model\n",
        "model.compile(optimizer=tf.keras.optimizers.Adam(learning_rate=0.001),\n",
        "              loss='mse',  # Mean Squared Error as loss\n",
        "              metrics=['mae'])  # Mean Absolute Error as metric\n",
        "\n",
        "# Train the model\n",
        "history = model.fit(train_dataset, train_labels,\n",
        "                    epochs=100,  # Experiment with epoch count\n",
        "                    batch_size=32,\n",
        "                    validation_split=0.2,  # Use 20% of the training data for validation\n",
        "                    verbose=1)\n",
        "\n",
        "# Evaluate the model on the test dataset\n",
        "loss, mae = model.evaluate(test_dataset, test_labels, verbose=2)\n",
        "print(f\"Testing set Mean Abs Error: {mae:.2f} expenses\")\n",
        "\n",
        "# Predict and plot results\n",
        "test_predictions = model.predict(test_dataset).flatten()\n",
        "\n",
        "plt.figure(figsize=(8, 8))\n",
        "plt.scatter(test_labels, test_predictions)\n",
        "plt.xlabel('True Values (expenses)')\n",
        "plt.ylabel('Predicted Values (expenses)')\n",
        "lims = [0, 50000]\n",
        "plt.xlim(lims)\n",
        "plt.ylim(lims)\n",
        "plt.plot(lims, lims, 'r')  # Plot a line for reference\n",
        "plt.title(\"True vs Predicted Values\")\n",
        "plt.show()\n"
      ]
    },
    {
      "cell_type": "code",
      "execution_count": null,
      "metadata": {
        "id": "Xe7RXH3N3CWU"
      },
      "outputs": [],
      "source": [
        "# RUN THIS CELL TO TEST YOUR MODEL. DO NOT MODIFY CONTENTS.\n",
        "# Test model by checking how well the model generalizes using the test set.\n",
        "loss, mae = model.evaluate(test_dataset, test_labels, verbose=2)\n",
        "\n",
        "print(\"Testing set Mean Abs Error: {:5.2f} expenses\".format(mae))\n",
        "\n",
        "if mae < 3500:\n",
        "  print(\"You passed the challenge. Great job!\")\n",
        "else:\n",
        "  print(\"The Mean Abs Error must be less than 3500. Keep trying.\")\n",
        "\n",
        "# Plot predictions.\n",
        "test_predictions = model.predict(test_dataset).flatten()\n",
        "\n",
        "a = plt.axes(aspect='equal')\n",
        "plt.scatter(test_labels, test_predictions)\n",
        "plt.xlabel('True values (expenses)')\n",
        "plt.ylabel('Predictions (expenses)')\n",
        "lims = [0, 50000]\n",
        "plt.xlim(lims)\n",
        "plt.ylim(lims)\n",
        "_ = plt.plot(lims,lims)\n"
      ]
    }
  ],
  "metadata": {
    "colab": {
      "name": "fcc_predict_health_costs_with_regression.ipynb",
      "private_outputs": true,
      "provenance": []
    },
    "kernelspec": {
      "display_name": "Python 3",
      "name": "python3"
    }
  },
  "nbformat": 4,
  "nbformat_minor": 0
}